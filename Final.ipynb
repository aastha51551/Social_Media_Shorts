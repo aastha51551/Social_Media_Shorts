{
 "cells": [
  {
   "cell_type": "code",
   "execution_count": 8,
   "id": "eb0642dc",
   "metadata": {},
   "outputs": [
    {
     "name": "stdout",
     "output_type": "stream",
     "text": [
      "What if we could go back in time Like actually change the past Wait what You mean like if we mess something up everything could be different That sounds dangerous Actually time travel is not as simple as it seems Changing one small thing could create a butterfly effect where everything in the present could shift It is like throwing a rock in a pond The ripples spread out and change everything\n"
     ]
    },
    {
     "name": "stderr",
     "output_type": "stream",
     "text": [
      "[nltk_data] Downloading package punkt to\n",
      "[nltk_data]     C:\\Users\\hp\\AppData\\Roaming\\nltk_data...\n",
      "[nltk_data]   Package punkt is already up-to-date!\n"
     ]
    },
    {
     "data": {
      "text/plain": [
       "['What',\n",
       " 'if',\n",
       " 'we',\n",
       " 'could',\n",
       " 'go',\n",
       " 'back',\n",
       " 'in',\n",
       " 'time',\n",
       " 'Like',\n",
       " 'actually',\n",
       " 'change',\n",
       " 'the',\n",
       " 'past',\n",
       " 'Wait',\n",
       " 'what',\n",
       " 'You',\n",
       " 'mean',\n",
       " 'like',\n",
       " 'if',\n",
       " 'we',\n",
       " 'mess',\n",
       " 'something',\n",
       " 'up',\n",
       " 'everything',\n",
       " 'could',\n",
       " 'be',\n",
       " 'different',\n",
       " 'That',\n",
       " 'sounds',\n",
       " 'dangerous',\n",
       " 'Actually',\n",
       " 'time',\n",
       " 'travel',\n",
       " 'is',\n",
       " 'not',\n",
       " 'as',\n",
       " 'simple',\n",
       " 'as',\n",
       " 'it',\n",
       " 'seems',\n",
       " 'Changing',\n",
       " 'one',\n",
       " 'small',\n",
       " 'thing',\n",
       " 'could',\n",
       " 'create',\n",
       " 'a',\n",
       " 'butterfly',\n",
       " 'effect',\n",
       " 'where',\n",
       " 'everything',\n",
       " 'in',\n",
       " 'the',\n",
       " 'present',\n",
       " 'could',\n",
       " 'shift',\n",
       " 'It',\n",
       " 'is',\n",
       " 'like',\n",
       " 'throwing',\n",
       " 'a',\n",
       " 'rock',\n",
       " 'in',\n",
       " 'a',\n",
       " 'pond',\n",
       " 'The',\n",
       " 'ripples',\n",
       " 'spread',\n",
       " 'out',\n",
       " 'and',\n",
       " 'change',\n",
       " 'everything']"
      ]
     },
     "execution_count": 8,
     "metadata": {},
     "output_type": "execute_result"
    }
   ],
   "source": [
    "import nltk\n",
    "from nltk.tokenize import word_tokenize\n",
    "\n",
    "nltk.download('punkt')\n",
    "\n",
    "text1=\"What if we could go back in time Like actually change the past\"\n",
    "text2=\"Wait what You mean like if we mess something up everything could be different That sounds dangerous\"\n",
    "text3=\"Actually time travel is not as simple as it seems Changing one small thing could create a butterfly effect where everything in the present could shift It is like throwing a rock in a pond The ripples spread out and change everything\"\n",
    "text=text1+\" \"+text2+\" \"+text3\n",
    "tokens = word_tokenize(text)\n",
    "print(text)\n",
    "\n",
    "tokens"
   ]
  },
  {
   "cell_type": "code",
   "execution_count": 9,
   "id": "822fd253",
   "metadata": {},
   "outputs": [],
   "source": [
    "from moviepy.editor import *\n",
    "from moviepy.editor import VideoFileClip\n",
    "import numpy as np"
   ]
  },
  {
   "cell_type": "code",
   "execution_count": 10,
   "id": "fea72960",
   "metadata": {},
   "outputs": [],
   "source": [
    "from moviepy.config import change_settings\n",
    "\n",
    "# Set the path to the ImageMagick binary\n",
    "change_settings({\"IMAGEMAGICK_BINARY\": \"C:\\\\Program Files\\\\ImageMagick-7.1.1-Q16-HDRI\\\\magick.exe\"})\n"
   ]
  },
  {
   "cell_type": "code",
   "execution_count": 11,
   "id": "ac6fb0d0",
   "metadata": {},
   "outputs": [],
   "source": [
    "bg=VideoFileClip(\"cupy.mp4\")\n",
    "\n",
    "text_clips=[]"
   ]
  },
  {
   "cell_type": "code",
   "execution_count": 12,
   "id": "7169b0ec",
   "metadata": {},
   "outputs": [
    {
     "data": {
      "text/plain": [
       "[1440, 2036]"
      ]
     },
     "execution_count": 12,
     "metadata": {},
     "output_type": "execute_result"
    }
   ],
   "source": [
    "bg.size\n"
   ]
  },
  {
   "cell_type": "code",
   "execution_count": null,
   "id": "0582faf6",
   "metadata": {},
   "outputs": [],
   "source": []
  },
  {
   "cell_type": "code",
   "execution_count": 13,
   "id": "238b6273",
   "metadata": {},
   "outputs": [
    {
     "name": "stdout",
     "output_type": "stream",
     "text": [
      "Moviepy - Building video video.mp4.\n",
      "Moviepy - Writing video video.mp4\n",
      "\n"
     ]
    },
    {
     "name": "stderr",
     "output_type": "stream",
     "text": [
      "                                                                                                                       \r"
     ]
    },
    {
     "name": "stdout",
     "output_type": "stream",
     "text": [
      "Moviepy - Done !\n",
      "Moviepy - video ready video.mp4\n"
     ]
    }
   ],
   "source": [
    "for word in tokens:\n",
    "\n",
    "    fontsize = 85\n",
    "    font = \"Impact\"   \n",
    "    \n",
    "\n",
    "    txt_clip = TextClip(\n",
    "        word, fontsize=fontsize, font=font, color='brown', size=bg.size\n",
    "    ).set_position(('center', 'bottom')).set_duration(0.51)\n",
    "\n",
    "    text_clips.append(txt_clip)\n",
    "\n",
    "text_sequence = concatenate_videoclips(text_clips)\n",
    "\n",
    "final_clip = CompositeVideoClip([bg, text_sequence])\n",
    "final_clip = final_clip.speedx(1.321428)\n",
    "\n",
    "final_clip.write_videofile(f\"video.mp4\", codec=\"libx264\", fps=24)"
   ]
  },
  {
   "cell_type": "code",
   "execution_count": null,
   "id": "593ee475",
   "metadata": {},
   "outputs": [],
   "source": []
  },
  {
   "cell_type": "code",
   "execution_count": null,
   "id": "8f7ff6dd",
   "metadata": {},
   "outputs": [],
   "source": []
  }
 ],
 "metadata": {
  "kernelspec": {
   "display_name": "Python 3 (ipykernel)",
   "language": "python",
   "name": "python3"
  },
  "language_info": {
   "codemirror_mode": {
    "name": "ipython",
    "version": 3
   },
   "file_extension": ".py",
   "mimetype": "text/x-python",
   "name": "python",
   "nbconvert_exporter": "python",
   "pygments_lexer": "ipython3",
   "version": "3.10.9"
  }
 },
 "nbformat": 4,
 "nbformat_minor": 5
}
