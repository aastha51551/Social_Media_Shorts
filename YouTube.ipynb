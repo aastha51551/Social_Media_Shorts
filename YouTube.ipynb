{
 "cells": [
  {
   "cell_type": "code",
   "execution_count": 7,
   "id": "efcdb455",
   "metadata": {},
   "outputs": [
    {
     "name": "stdout",
     "output_type": "stream",
     "text": [
      "['I', 'failed', 'the', 'first', 'quarter', 'of', 'a', 'class', 'in', 'middle', 'school', 'so', 'I', 'made', 'a', 'fake', 'report', 'card', 'I', 'did', 'this', 'every', 'quarter', 'that', 'year', 'I', 'forgot', 'that', 'they', 'mail', 'home', 'the', 'endofyear', 'cards', 'and', 'my', 'mom', 'got', 'it', 'before', 'I', 'could', 'intercept', 'with', 'my', 'fake', 'She', 'was', 'PISSED', 'at', 'the', 'school', 'for', 'their', 'error', 'The', 'teacher', 'also', 'retired', 'that', 'year', 'and', 'had', 'already', 'thrown', 'out', 'his', 'records', 'so', 'they', 'had', 'to', 'take', 'my', 'mother', 'proof', 'and', 'correct', 'the', 'mistake', 'I', 'have', 'never', 'told', 'her', 'the', 'truth']\n"
     ]
    },
    {
     "name": "stderr",
     "output_type": "stream",
     "text": [
      "[nltk_data] Downloading package punkt to\n",
      "[nltk_data]     C:\\Users\\hp\\AppData\\Roaming\\nltk_data...\n",
      "[nltk_data]   Package punkt is already up-to-date!\n"
     ]
    }
   ],
   "source": [
    "import nltk\n",
    "from nltk.tokenize import word_tokenize\n",
    "\n",
    "nltk.download('punkt')\n",
    "text = \"I failed the first quarter of a class in middle school so I made a fake report card I did this every quarter that year I forgot that they mail home the endofyear cards and my mom got it before I could intercept with my fake She was PISSED at the school for their error The teacher also retired that year and had already thrown out his records so they had to take my mother proof and correct the mistake I have never told her the truth\"\n",
    "tokens = word_tokenize(text)\n",
    "print(tokens)"
   ]
  },
  {
   "cell_type": "code",
   "execution_count": 3,
   "id": "1150a841",
   "metadata": {},
   "outputs": [],
   "source": [
    "from moviepy.editor import *\n",
    "from moviepy.editor import VideoFileClip\n",
    "import numpy as np"
   ]
  },
  {
   "cell_type": "code",
   "execution_count": 4,
   "id": "4b888bb8",
   "metadata": {},
   "outputs": [],
   "source": [
    "from moviepy.config import change_settings\n",
    "\n",
    "# Set the path to the ImageMagick binary\n",
    "change_settings({\"IMAGEMAGICK_BINARY\": \"C:\\\\Program Files\\\\ImageMagick-7.1.1-Q16-HDRI\\\\magick.exe\"})\n"
   ]
  },
  {
   "cell_type": "code",
   "execution_count": 5,
   "id": "41e72a08",
   "metadata": {},
   "outputs": [],
   "source": [
    "bg1=VideoFileClip(\"bg.mp4\").subclip(0,30)\n",
    "bg2=VideoFileClip(\"bg.mp4\").subclip(30,60)\n",
    "bg3=VideoFileClip(\"bg.mp4\").subclip(60,87)\n",
    "bg=[bg1,bg2,bg3]\n",
    "color=['red','green','blue','yellow','brown','red','green','blue','yellow','brown']"
   ]
  },
  {
   "cell_type": "code",
   "execution_count": 6,
   "id": "115d6fbb",
   "metadata": {},
   "outputs": [
    {
     "ename": "KeyboardInterrupt",
     "evalue": "",
     "output_type": "error",
     "traceback": [
      "\u001b[1;31m---------------------------------------------------------------------------\u001b[0m",
      "\u001b[1;31mKeyboardInterrupt\u001b[0m                         Traceback (most recent call last)",
      "Cell \u001b[1;32mIn[6], line 21\u001b[0m\n\u001b[0;32m     13\u001b[0m shadow_clip \u001b[38;5;241m=\u001b[39m TextClip(\n\u001b[0;32m     14\u001b[0m     word, fontsize\u001b[38;5;241m=\u001b[39mfontsize \u001b[38;5;241m+\u001b[39m \u001b[38;5;241m10\u001b[39m, font\u001b[38;5;241m=\u001b[39mfont, color\u001b[38;5;241m=\u001b[39moutline_color, size\u001b[38;5;241m=\u001b[39mbg[i]\u001b[38;5;241m.\u001b[39msize\n\u001b[0;32m     15\u001b[0m )\u001b[38;5;241m.\u001b[39mset_position((\u001b[38;5;124m'\u001b[39m\u001b[38;5;124mcenter\u001b[39m\u001b[38;5;124m'\u001b[39m, shadow_offset[\u001b[38;5;241m1\u001b[39m]))\u001b[38;5;241m.\u001b[39mset_duration(word_dur)\n\u001b[0;32m     17\u001b[0m outline_clip \u001b[38;5;241m=\u001b[39m TextClip(\n\u001b[0;32m     18\u001b[0m     word, fontsize\u001b[38;5;241m=\u001b[39mfontsize \u001b[38;5;241m+\u001b[39m \u001b[38;5;241m10\u001b[39m, font\u001b[38;5;241m=\u001b[39mfont, color\u001b[38;5;241m=\u001b[39moutline_color, size\u001b[38;5;241m=\u001b[39mbg[i]\u001b[38;5;241m.\u001b[39msize\n\u001b[0;32m     19\u001b[0m )\u001b[38;5;241m.\u001b[39mset_position(\u001b[38;5;124m'\u001b[39m\u001b[38;5;124mcenter\u001b[39m\u001b[38;5;124m'\u001b[39m)\u001b[38;5;241m.\u001b[39mset_duration(word_dur)\n\u001b[1;32m---> 21\u001b[0m txt_clip \u001b[38;5;241m=\u001b[39m \u001b[43mTextClip\u001b[49m\u001b[43m(\u001b[49m\n\u001b[0;32m     22\u001b[0m \u001b[43m    \u001b[49m\u001b[43mword\u001b[49m\u001b[43m,\u001b[49m\u001b[43m \u001b[49m\u001b[43mfontsize\u001b[49m\u001b[38;5;241;43m=\u001b[39;49m\u001b[43mfontsize\u001b[49m\u001b[43m,\u001b[49m\u001b[43m \u001b[49m\u001b[43mfont\u001b[49m\u001b[38;5;241;43m=\u001b[39;49m\u001b[43mfont\u001b[49m\u001b[43m,\u001b[49m\u001b[43m \u001b[49m\u001b[43mcolor\u001b[49m\u001b[38;5;241;43m=\u001b[39;49m\u001b[43mrandom_color\u001b[49m\u001b[43m,\u001b[49m\u001b[43m \u001b[49m\u001b[43msize\u001b[49m\u001b[38;5;241;43m=\u001b[39;49m\u001b[43mbg\u001b[49m\u001b[43m[\u001b[49m\u001b[43mi\u001b[49m\u001b[43m]\u001b[49m\u001b[38;5;241;43m.\u001b[39;49m\u001b[43msize\u001b[49m\n\u001b[0;32m     23\u001b[0m \u001b[43m\u001b[49m\u001b[43m)\u001b[49m\u001b[38;5;241m.\u001b[39mset_position(\u001b[38;5;124m'\u001b[39m\u001b[38;5;124mcenter\u001b[39m\u001b[38;5;124m'\u001b[39m)\u001b[38;5;241m.\u001b[39mset_duration(word_dur)\n\u001b[0;32m     25\u001b[0m combined_clip \u001b[38;5;241m=\u001b[39m CompositeVideoClip([shadow_clip, outline_clip, txt_clip], size\u001b[38;5;241m=\u001b[39mbg[i]\u001b[38;5;241m.\u001b[39msize)\u001b[38;5;241m.\u001b[39mset_duration(word_dur)\n\u001b[0;32m     27\u001b[0m text_clips\u001b[38;5;241m.\u001b[39mappend(combined_clip)\n",
      "File \u001b[1;32m~\\AppData\\Roaming\\Python\\Python310\\site-packages\\moviepy\\video\\VideoClip.py:1148\u001b[0m, in \u001b[0;36mTextClip.__init__\u001b[1;34m(self, txt, filename, size, color, bg_color, fontsize, font, stroke_color, stroke_width, method, kerning, align, interline, tempfilename, temptxt, transparent, remove_temp, print_cmd)\u001b[0m\n\u001b[0;32m   1139\u001b[0m     error \u001b[38;5;241m=\u001b[39m (\u001b[38;5;124m\"\u001b[39m\u001b[38;5;124mMoviePy Error: creation of \u001b[39m\u001b[38;5;132;01m%s\u001b[39;00m\u001b[38;5;124m failed because of the \u001b[39m\u001b[38;5;124m\"\u001b[39m\n\u001b[0;32m   1140\u001b[0m              \u001b[38;5;124m\"\u001b[39m\u001b[38;5;124mfollowing error:\u001b[39m\u001b[38;5;130;01m\\n\u001b[39;00m\u001b[38;5;130;01m\\n\u001b[39;00m\u001b[38;5;132;01m%s\u001b[39;00m\u001b[38;5;124m.\u001b[39m\u001b[38;5;130;01m\\n\u001b[39;00m\u001b[38;5;130;01m\\n\u001b[39;00m\u001b[38;5;124m.\u001b[39m\u001b[38;5;124m\"\u001b[39m \u001b[38;5;241m%\u001b[39m (filename, \u001b[38;5;28mstr\u001b[39m(err))\n\u001b[0;32m   1141\u001b[0m              \u001b[38;5;241m+\u001b[39m (\u001b[38;5;124m\"\u001b[39m\u001b[38;5;124mThis error can be due to the fact that ImageMagick \u001b[39m\u001b[38;5;124m\"\u001b[39m\n\u001b[1;32m   (...)\u001b[0m\n\u001b[0;32m   1144\u001b[0m                 \u001b[38;5;124m\"\u001b[39m\u001b[38;5;124mImageMagick binary in file conf.py, or that the path \u001b[39m\u001b[38;5;124m\"\u001b[39m\n\u001b[0;32m   1145\u001b[0m                 \u001b[38;5;124m\"\u001b[39m\u001b[38;5;124myou specified is incorrect\u001b[39m\u001b[38;5;124m\"\u001b[39m))\n\u001b[0;32m   1146\u001b[0m     \u001b[38;5;28;01mraise\u001b[39;00m \u001b[38;5;167;01mIOError\u001b[39;00m(error)\n\u001b[1;32m-> 1148\u001b[0m \u001b[43mImageClip\u001b[49m\u001b[38;5;241;43m.\u001b[39;49m\u001b[38;5;21;43m__init__\u001b[39;49m\u001b[43m(\u001b[49m\u001b[38;5;28;43mself\u001b[39;49m\u001b[43m,\u001b[49m\u001b[43m \u001b[49m\u001b[43mtempfilename\u001b[49m\u001b[43m,\u001b[49m\u001b[43m \u001b[49m\u001b[43mtransparent\u001b[49m\u001b[38;5;241;43m=\u001b[39;49m\u001b[43mtransparent\u001b[49m\u001b[43m)\u001b[49m\n\u001b[0;32m   1149\u001b[0m \u001b[38;5;28mself\u001b[39m\u001b[38;5;241m.\u001b[39mtxt \u001b[38;5;241m=\u001b[39m txt\n\u001b[0;32m   1150\u001b[0m \u001b[38;5;28mself\u001b[39m\u001b[38;5;241m.\u001b[39mcolor \u001b[38;5;241m=\u001b[39m color\n",
      "File \u001b[1;32m~\\AppData\\Roaming\\Python\\Python310\\site-packages\\moviepy\\video\\VideoClip.py:889\u001b[0m, in \u001b[0;36mImageClip.__init__\u001b[1;34m(self, img, ismask, transparent, fromalpha, duration)\u001b[0m\n\u001b[0;32m    886\u001b[0m VideoClip\u001b[38;5;241m.\u001b[39m\u001b[38;5;21m__init__\u001b[39m(\u001b[38;5;28mself\u001b[39m, ismask\u001b[38;5;241m=\u001b[39mismask, duration\u001b[38;5;241m=\u001b[39mduration)\n\u001b[0;32m    888\u001b[0m \u001b[38;5;28;01mif\u001b[39;00m \u001b[38;5;28misinstance\u001b[39m(img, string_types):\n\u001b[1;32m--> 889\u001b[0m     img \u001b[38;5;241m=\u001b[39m \u001b[43mimread\u001b[49m\u001b[43m(\u001b[49m\u001b[43mimg\u001b[49m\u001b[43m)\u001b[49m\n\u001b[0;32m    891\u001b[0m \u001b[38;5;28;01mif\u001b[39;00m \u001b[38;5;28mlen\u001b[39m(img\u001b[38;5;241m.\u001b[39mshape) \u001b[38;5;241m==\u001b[39m \u001b[38;5;241m3\u001b[39m:  \u001b[38;5;66;03m# img is (now) a RGB(a) numpy array\u001b[39;00m\n\u001b[0;32m    893\u001b[0m     \u001b[38;5;28;01mif\u001b[39;00m img\u001b[38;5;241m.\u001b[39mshape[\u001b[38;5;241m2\u001b[39m] \u001b[38;5;241m==\u001b[39m \u001b[38;5;241m4\u001b[39m:\n",
      "File \u001b[1;32mC:\\ProgramData\\anaconda3\\lib\\site-packages\\imageio\\__init__.py:97\u001b[0m, in \u001b[0;36mimread\u001b[1;34m(uri, format, **kwargs)\u001b[0m\n\u001b[0;32m     68\u001b[0m \u001b[38;5;250m\u001b[39m\u001b[38;5;124;03m\"\"\"imread(uri, format=None, **kwargs)\u001b[39;00m\n\u001b[0;32m     69\u001b[0m \n\u001b[0;32m     70\u001b[0m \u001b[38;5;124;03mReads an image from the specified file. Returns a numpy array, which\u001b[39;00m\n\u001b[1;32m   (...)\u001b[0m\n\u001b[0;32m     86\u001b[0m \u001b[38;5;124;03m    to see what arguments are available for a particular format.\u001b[39;00m\n\u001b[0;32m     87\u001b[0m \u001b[38;5;124;03m\"\"\"\u001b[39;00m\n\u001b[0;32m     89\u001b[0m warnings\u001b[38;5;241m.\u001b[39mwarn(\n\u001b[0;32m     90\u001b[0m     \u001b[38;5;124m\"\u001b[39m\u001b[38;5;124mStarting with ImageIO v3 the behavior of this function will switch to that of\u001b[39m\u001b[38;5;124m\"\u001b[39m\n\u001b[0;32m     91\u001b[0m     \u001b[38;5;124m\"\u001b[39m\u001b[38;5;124m iio.v3.imread. To keep the current behavior (and make this warning disappear)\u001b[39m\u001b[38;5;124m\"\u001b[39m\n\u001b[1;32m   (...)\u001b[0m\n\u001b[0;32m     94\u001b[0m     stacklevel\u001b[38;5;241m=\u001b[39m\u001b[38;5;241m2\u001b[39m,\n\u001b[0;32m     95\u001b[0m )\n\u001b[1;32m---> 97\u001b[0m \u001b[38;5;28;01mreturn\u001b[39;00m imread_v2(uri, \u001b[38;5;28mformat\u001b[39m\u001b[38;5;241m=\u001b[39m\u001b[38;5;28mformat\u001b[39m, \u001b[38;5;241m*\u001b[39m\u001b[38;5;241m*\u001b[39mkwargs)\n",
      "File \u001b[1;32mC:\\ProgramData\\anaconda3\\lib\\site-packages\\imageio\\v2.py:227\u001b[0m, in \u001b[0;36mimread\u001b[1;34m(uri, format, **kwargs)\u001b[0m\n\u001b[0;32m    224\u001b[0m imopen_args[\u001b[38;5;124m\"\u001b[39m\u001b[38;5;124mlegacy_mode\u001b[39m\u001b[38;5;124m\"\u001b[39m] \u001b[38;5;241m=\u001b[39m \u001b[38;5;28;01mTrue\u001b[39;00m\n\u001b[0;32m    226\u001b[0m \u001b[38;5;28;01mwith\u001b[39;00m imopen(uri, \u001b[38;5;124m\"\u001b[39m\u001b[38;5;124mri\u001b[39m\u001b[38;5;124m\"\u001b[39m, \u001b[38;5;241m*\u001b[39m\u001b[38;5;241m*\u001b[39mimopen_args) \u001b[38;5;28;01mas\u001b[39;00m file:\n\u001b[1;32m--> 227\u001b[0m     result \u001b[38;5;241m=\u001b[39m file\u001b[38;5;241m.\u001b[39mread(index\u001b[38;5;241m=\u001b[39m\u001b[38;5;241m0\u001b[39m, \u001b[38;5;241m*\u001b[39m\u001b[38;5;241m*\u001b[39mkwargs)\n\u001b[0;32m    229\u001b[0m \u001b[38;5;28;01mreturn\u001b[39;00m result\n",
      "File \u001b[1;32mC:\\ProgramData\\anaconda3\\lib\\site-packages\\imageio\\core\\legacy_plugin_wrapper.py:147\u001b[0m, in \u001b[0;36mLegacyPlugin.read\u001b[1;34m(self, index, **kwargs)\u001b[0m\n\u001b[0;32m    144\u001b[0m     img \u001b[38;5;241m=\u001b[39m np\u001b[38;5;241m.\u001b[39mstack([im \u001b[38;5;28;01mfor\u001b[39;00m im \u001b[38;5;129;01min\u001b[39;00m \u001b[38;5;28mself\u001b[39m\u001b[38;5;241m.\u001b[39miter(\u001b[38;5;241m*\u001b[39m\u001b[38;5;241m*\u001b[39mkwargs)])\n\u001b[0;32m    145\u001b[0m     \u001b[38;5;28;01mreturn\u001b[39;00m img\n\u001b[1;32m--> 147\u001b[0m reader \u001b[38;5;241m=\u001b[39m \u001b[38;5;28mself\u001b[39m\u001b[38;5;241m.\u001b[39mlegacy_get_reader(\u001b[38;5;241m*\u001b[39m\u001b[38;5;241m*\u001b[39mkwargs)\n\u001b[0;32m    148\u001b[0m \u001b[38;5;28;01mreturn\u001b[39;00m reader\u001b[38;5;241m.\u001b[39mget_data(index)\n",
      "File \u001b[1;32mC:\\ProgramData\\anaconda3\\lib\\site-packages\\imageio\\core\\legacy_plugin_wrapper.py:116\u001b[0m, in \u001b[0;36mLegacyPlugin.legacy_get_reader\u001b[1;34m(self, **kwargs)\u001b[0m\n\u001b[0;32m    113\u001b[0m     \u001b[38;5;28;01mreturn\u001b[39;00m \u001b[38;5;28mself\u001b[39m\u001b[38;5;241m.\u001b[39m_format\u001b[38;5;241m.\u001b[39mget_reader(\u001b[38;5;28mself\u001b[39m\u001b[38;5;241m.\u001b[39m_request)\n\u001b[0;32m    115\u001b[0m \u001b[38;5;28mself\u001b[39m\u001b[38;5;241m.\u001b[39m_request\u001b[38;5;241m.\u001b[39mget_file()\u001b[38;5;241m.\u001b[39mseek(\u001b[38;5;241m0\u001b[39m)\n\u001b[1;32m--> 116\u001b[0m \u001b[38;5;28;01mreturn\u001b[39;00m \u001b[38;5;28;43mself\u001b[39;49m\u001b[38;5;241;43m.\u001b[39;49m\u001b[43m_format\u001b[49m\u001b[38;5;241;43m.\u001b[39;49m\u001b[43mget_reader\u001b[49m\u001b[43m(\u001b[49m\u001b[38;5;28;43mself\u001b[39;49m\u001b[38;5;241;43m.\u001b[39;49m\u001b[43m_request\u001b[49m\u001b[43m)\u001b[49m\n",
      "File \u001b[1;32mC:\\ProgramData\\anaconda3\\lib\\site-packages\\imageio\\core\\format.py:221\u001b[0m, in \u001b[0;36mFormat.get_reader\u001b[1;34m(self, request)\u001b[0m\n\u001b[0;32m    217\u001b[0m \u001b[38;5;28;01mif\u001b[39;00m select_mode \u001b[38;5;129;01mnot\u001b[39;00m \u001b[38;5;129;01min\u001b[39;00m \u001b[38;5;28mself\u001b[39m\u001b[38;5;241m.\u001b[39mmodes:\n\u001b[0;32m    218\u001b[0m     \u001b[38;5;28;01mraise\u001b[39;00m \u001b[38;5;167;01mRuntimeError\u001b[39;00m(\n\u001b[0;32m    219\u001b[0m         \u001b[38;5;124mf\u001b[39m\u001b[38;5;124m\"\u001b[39m\u001b[38;5;124mFormat \u001b[39m\u001b[38;5;132;01m{\u001b[39;00m\u001b[38;5;28mself\u001b[39m\u001b[38;5;241m.\u001b[39mname\u001b[38;5;132;01m}\u001b[39;00m\u001b[38;5;124m cannot read in \u001b[39m\u001b[38;5;132;01m{\u001b[39;00mrequest\u001b[38;5;241m.\u001b[39mmode\u001b[38;5;241m.\u001b[39mimage_mode\u001b[38;5;132;01m}\u001b[39;00m\u001b[38;5;124m mode\u001b[39m\u001b[38;5;124m\"\u001b[39m\n\u001b[0;32m    220\u001b[0m     )\n\u001b[1;32m--> 221\u001b[0m \u001b[38;5;28;01mreturn\u001b[39;00m \u001b[38;5;28;43mself\u001b[39;49m\u001b[38;5;241;43m.\u001b[39;49m\u001b[43mReader\u001b[49m\u001b[43m(\u001b[49m\u001b[38;5;28;43mself\u001b[39;49m\u001b[43m,\u001b[49m\u001b[43m \u001b[49m\u001b[43mrequest\u001b[49m\u001b[43m)\u001b[49m\n",
      "File \u001b[1;32mC:\\ProgramData\\anaconda3\\lib\\site-packages\\imageio\\core\\format.py:312\u001b[0m, in \u001b[0;36mFormat._BaseReaderWriter.__init__\u001b[1;34m(self, format, request)\u001b[0m\n\u001b[0;32m    310\u001b[0m \u001b[38;5;28mself\u001b[39m\u001b[38;5;241m.\u001b[39m_request \u001b[38;5;241m=\u001b[39m request\n\u001b[0;32m    311\u001b[0m \u001b[38;5;66;03m# Open the reader/writer\u001b[39;00m\n\u001b[1;32m--> 312\u001b[0m \u001b[38;5;28mself\u001b[39m\u001b[38;5;241m.\u001b[39m_open(\u001b[38;5;241m*\u001b[39m\u001b[38;5;241m*\u001b[39m\u001b[38;5;28mself\u001b[39m\u001b[38;5;241m.\u001b[39mrequest\u001b[38;5;241m.\u001b[39mkwargs\u001b[38;5;241m.\u001b[39mcopy())\n",
      "File \u001b[1;32mC:\\ProgramData\\anaconda3\\lib\\site-packages\\imageio\\plugins\\pillow_legacy.py:391\u001b[0m, in \u001b[0;36mPNGFormat.Reader._open\u001b[1;34m(self, pilmode, as_gray, ignoregamma)\u001b[0m\n\u001b[0;32m    390\u001b[0m \u001b[38;5;28;01mdef\u001b[39;00m \u001b[38;5;21m_open\u001b[39m(\u001b[38;5;28mself\u001b[39m, pilmode\u001b[38;5;241m=\u001b[39m\u001b[38;5;28;01mNone\u001b[39;00m, as_gray\u001b[38;5;241m=\u001b[39m\u001b[38;5;28;01mFalse\u001b[39;00m, ignoregamma\u001b[38;5;241m=\u001b[39m\u001b[38;5;28;01mTrue\u001b[39;00m):\n\u001b[1;32m--> 391\u001b[0m     \u001b[38;5;28;01mreturn\u001b[39;00m \u001b[43mPillowFormat\u001b[49m\u001b[38;5;241;43m.\u001b[39;49m\u001b[43mReader\u001b[49m\u001b[38;5;241;43m.\u001b[39;49m\u001b[43m_open\u001b[49m\u001b[43m(\u001b[49m\u001b[38;5;28;43mself\u001b[39;49m\u001b[43m,\u001b[49m\u001b[43m \u001b[49m\u001b[43mpilmode\u001b[49m\u001b[38;5;241;43m=\u001b[39;49m\u001b[43mpilmode\u001b[49m\u001b[43m,\u001b[49m\u001b[43m \u001b[49m\u001b[43mas_gray\u001b[49m\u001b[38;5;241;43m=\u001b[39;49m\u001b[43mas_gray\u001b[49m\u001b[43m)\u001b[49m\n",
      "File \u001b[1;32mC:\\ProgramData\\anaconda3\\lib\\site-packages\\imageio\\plugins\\pillow_legacy.py:297\u001b[0m, in \u001b[0;36mPillowFormat.Reader._open\u001b[1;34m(self, pilmode, as_gray)\u001b[0m\n\u001b[0;32m    295\u001b[0m \u001b[38;5;28;01mif\u001b[39;00m \u001b[38;5;28mself\u001b[39m\u001b[38;5;241m.\u001b[39m_im\u001b[38;5;241m.\u001b[39mpalette \u001b[38;5;129;01mand\u001b[39;00m \u001b[38;5;28mself\u001b[39m\u001b[38;5;241m.\u001b[39m_im\u001b[38;5;241m.\u001b[39mpalette\u001b[38;5;241m.\u001b[39mdirty:\n\u001b[0;32m    296\u001b[0m     \u001b[38;5;28mself\u001b[39m\u001b[38;5;241m.\u001b[39m_im\u001b[38;5;241m.\u001b[39mpalette\u001b[38;5;241m.\u001b[39mrawmode_saved \u001b[38;5;241m=\u001b[39m \u001b[38;5;28mself\u001b[39m\u001b[38;5;241m.\u001b[39m_im\u001b[38;5;241m.\u001b[39mpalette\u001b[38;5;241m.\u001b[39mrawmode\n\u001b[1;32m--> 297\u001b[0m \u001b[43mpil_try_read\u001b[49m\u001b[43m(\u001b[49m\u001b[38;5;28;43mself\u001b[39;49m\u001b[38;5;241;43m.\u001b[39;49m\u001b[43m_im\u001b[49m\u001b[43m)\u001b[49m\n\u001b[0;32m    298\u001b[0m \u001b[38;5;66;03m# Store args\u001b[39;00m\n\u001b[0;32m    299\u001b[0m \u001b[38;5;28mself\u001b[39m\u001b[38;5;241m.\u001b[39m_kwargs \u001b[38;5;241m=\u001b[39m \u001b[38;5;28mdict\u001b[39m(\n\u001b[0;32m    300\u001b[0m     as_gray\u001b[38;5;241m=\u001b[39mas_gray, is_gray\u001b[38;5;241m=\u001b[39m_palette_is_grayscale(\u001b[38;5;28mself\u001b[39m\u001b[38;5;241m.\u001b[39m_im)\n\u001b[0;32m    301\u001b[0m )\n",
      "File \u001b[1;32mC:\\ProgramData\\anaconda3\\lib\\site-packages\\imageio\\plugins\\pillow_legacy.py:648\u001b[0m, in \u001b[0;36mpil_try_read\u001b[1;34m(im)\u001b[0m\n\u001b[0;32m    645\u001b[0m \u001b[38;5;28;01mdef\u001b[39;00m \u001b[38;5;21mpil_try_read\u001b[39m(im):\n\u001b[0;32m    646\u001b[0m     \u001b[38;5;28;01mtry\u001b[39;00m:\n\u001b[0;32m    647\u001b[0m         \u001b[38;5;66;03m# this will raise an IOError if the file is not readable\u001b[39;00m\n\u001b[1;32m--> 648\u001b[0m         \u001b[43mim\u001b[49m\u001b[38;5;241;43m.\u001b[39;49m\u001b[43mgetdata\u001b[49m\u001b[43m(\u001b[49m\u001b[43m)\u001b[49m[\u001b[38;5;241m0\u001b[39m]\n\u001b[0;32m    649\u001b[0m     \u001b[38;5;28;01mexcept\u001b[39;00m \u001b[38;5;167;01mIOError\u001b[39;00m \u001b[38;5;28;01mas\u001b[39;00m e:\n\u001b[0;32m    650\u001b[0m         site \u001b[38;5;241m=\u001b[39m \u001b[38;5;124m\"\u001b[39m\u001b[38;5;124mhttp://pillow.readthedocs.io/en/latest/installation.html\u001b[39m\u001b[38;5;124m\"\u001b[39m\n",
      "File \u001b[1;32mC:\\ProgramData\\anaconda3\\lib\\site-packages\\PIL\\Image.py:1381\u001b[0m, in \u001b[0;36mImage.getdata\u001b[1;34m(self, band)\u001b[0m\n\u001b[0;32m   1363\u001b[0m \u001b[38;5;28;01mdef\u001b[39;00m \u001b[38;5;21mgetdata\u001b[39m(\u001b[38;5;28mself\u001b[39m, band\u001b[38;5;241m=\u001b[39m\u001b[38;5;28;01mNone\u001b[39;00m):\n\u001b[0;32m   1364\u001b[0m \u001b[38;5;250m    \u001b[39m\u001b[38;5;124;03m\"\"\"\u001b[39;00m\n\u001b[0;32m   1365\u001b[0m \u001b[38;5;124;03m    Returns the contents of this image as a sequence object\u001b[39;00m\n\u001b[0;32m   1366\u001b[0m \u001b[38;5;124;03m    containing pixel values.  The sequence object is flattened, so\u001b[39;00m\n\u001b[1;32m   (...)\u001b[0m\n\u001b[0;32m   1378\u001b[0m \u001b[38;5;124;03m    :returns: A sequence-like object.\u001b[39;00m\n\u001b[0;32m   1379\u001b[0m \u001b[38;5;124;03m    \"\"\"\u001b[39;00m\n\u001b[1;32m-> 1381\u001b[0m     \u001b[38;5;28;43mself\u001b[39;49m\u001b[38;5;241;43m.\u001b[39;49m\u001b[43mload\u001b[49m\u001b[43m(\u001b[49m\u001b[43m)\u001b[49m\n\u001b[0;32m   1382\u001b[0m     \u001b[38;5;28;01mif\u001b[39;00m band \u001b[38;5;129;01mis\u001b[39;00m \u001b[38;5;129;01mnot\u001b[39;00m \u001b[38;5;28;01mNone\u001b[39;00m:\n\u001b[0;32m   1383\u001b[0m         \u001b[38;5;28;01mreturn\u001b[39;00m \u001b[38;5;28mself\u001b[39m\u001b[38;5;241m.\u001b[39mim\u001b[38;5;241m.\u001b[39mgetband(band)\n",
      "File \u001b[1;32mC:\\ProgramData\\anaconda3\\lib\\site-packages\\PIL\\ImageFile.py:269\u001b[0m, in \u001b[0;36mImageFile.load\u001b[1;34m(self)\u001b[0m\n\u001b[0;32m    266\u001b[0m         \u001b[38;5;28;01mraise\u001b[39;00m \u001b[38;5;167;01mOSError\u001b[39;00m(msg)\n\u001b[0;32m    268\u001b[0m b \u001b[38;5;241m=\u001b[39m b \u001b[38;5;241m+\u001b[39m s\n\u001b[1;32m--> 269\u001b[0m n, err_code \u001b[38;5;241m=\u001b[39m \u001b[43mdecoder\u001b[49m\u001b[38;5;241;43m.\u001b[39;49m\u001b[43mdecode\u001b[49m\u001b[43m(\u001b[49m\u001b[43mb\u001b[49m\u001b[43m)\u001b[49m\n\u001b[0;32m    270\u001b[0m \u001b[38;5;28;01mif\u001b[39;00m n \u001b[38;5;241m<\u001b[39m \u001b[38;5;241m0\u001b[39m:\n\u001b[0;32m    271\u001b[0m     \u001b[38;5;28;01mbreak\u001b[39;00m\n",
      "\u001b[1;31mKeyboardInterrupt\u001b[0m: "
     ]
    }
   ],
   "source": [
    "for i in range(3):\n",
    "    word_dur = bg[i].duration / len(tokens)  # Calculate duration per word\n",
    "    text_clips = []  # Reset text clips for each background\n",
    "\n",
    "    for word in tokens:\n",
    "        random_color = color[np.random.randint(0, len(color))]\n",
    "                \n",
    "        fontsize = 75\n",
    "        font = \"Impact\" \n",
    "        outline_color = \"white\"  \n",
    "        shadow_offset = (5, 5)\n",
    "\n",
    "        shadow_clip = TextClip(\n",
    "            word, fontsize=fontsize + 10, font=font, color=outline_color, size=bg[i].size\n",
    "        ).set_position(('center', shadow_offset[1])).set_duration(word_dur)\n",
    "        \n",
    "        outline_clip = TextClip(\n",
    "            word, fontsize=fontsize + 10, font=font, color=outline_color, size=bg[i].size\n",
    "        ).set_position('center').set_duration(word_dur)\n",
    "\n",
    "        txt_clip = TextClip(\n",
    "            word, fontsize=fontsize, font=font, color=random_color, size=bg[i].size\n",
    "        ).set_position('center').set_duration(word_dur)\n",
    "\n",
    "        combined_clip = CompositeVideoClip([shadow_clip, outline_clip, txt_clip], size=bg[i].size).set_duration(word_dur)\n",
    "\n",
    "        text_clips.append(combined_clip)\n",
    "\n",
    "    text_sequence = concatenate_videoclips(text_clips)\n",
    "\n",
    "    final_clip = CompositeVideoClip([bg[i], text_sequence])\n",
    "\n",
    "    final_clip.write_videofile(f\"video{i}.mp4\", codec=\"libx264\", fps=24)\n"
   ]
  },
  {
   "cell_type": "code",
   "execution_count": null,
   "id": "93cc47f1",
   "metadata": {},
   "outputs": [],
   "source": []
  }
 ],
 "metadata": {
  "kernelspec": {
   "display_name": "Python 3 (ipykernel)",
   "language": "python",
   "name": "python3"
  },
  "language_info": {
   "codemirror_mode": {
    "name": "ipython",
    "version": 3
   },
   "file_extension": ".py",
   "mimetype": "text/x-python",
   "name": "python",
   "nbconvert_exporter": "python",
   "pygments_lexer": "ipython3",
   "version": "3.10.9"
  }
 },
 "nbformat": 4,
 "nbformat_minor": 5
}
